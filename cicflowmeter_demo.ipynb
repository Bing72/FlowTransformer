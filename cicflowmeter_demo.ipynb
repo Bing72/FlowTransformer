{
  "cells": [
    {
      "cell_type": "raw",
      "metadata": {
        "vscode": {
          "languageId": "raw"
        }
      },
      "source": [
        "# CICFlowMeter 데이터셋을 위한 FlowTransformer 데모\n",
        "\n",
        "이 노트북은 CICFlowMeter로 생성된 CSV 파일을 FlowTransformer에서 사용하는 방법을 보여줍니다.\n",
        "\n",
        "## 사용 방법\n",
        "1. 첫 번째 셀에서 데이터셋 경로를 설정\n",
        "2. 순서대로 셀들을 실행\n",
        "3. 학습 결과 확인\n"
      ]
    },
    {
      "cell_type": "code",
      "execution_count": null,
      "metadata": {},
      "outputs": [],
      "source": [
        "# 라이브러리 임포트\n",
        "import os\n",
        "import pandas as pd\n",
        "\n",
        "from framework.dataset_specification import NamedDatasetSpecifications\n",
        "from framework.enumerations import EvaluationDatasetSampling\n",
        "from framework.flow_transformer import FlowTransformer\n",
        "from framework.flow_transformer_parameters import FlowTransformerParameters\n",
        "from framework.framework_component import FunctionalComponent\n",
        "from implementations.classification_heads import *\n",
        "from implementations.input_encodings import *\n",
        "from implementations.pre_processings import StandardPreProcessing\n",
        "from implementations.transformers.basic_transformers import BasicTransformer\n",
        "from implementations.transformers.named_transformers import *\n"
      ]
    },
    {
      "cell_type": "raw",
      "metadata": {
        "vscode": {
          "languageId": "raw"
        }
      },
      "source": [
        "## 설정: 데이터셋 경로\n",
        "\n",
        "여기에 CICFlowMeter로 생성한 CSV 파일의 경로를 입력하세요.\n"
      ]
    },
    {
      "cell_type": "code",
      "execution_count": null,
      "metadata": {},
      "outputs": [],
      "source": [
        "# ========== 사용자 설정 ==========\n",
        "# CICFlowMeter로 생성한 CSV 파일 경로\n",
        "dataset_path = r\"C:\\Dataset\\cic2017\\DoS-Wednesday-WorkingHours.pcap_ISCX.csv\"\n",
        "\n",
        "# 캐시 폴더 (선택사항 - 처리 속도 향상)\n",
        "cache_folder = r\"C:\\Dataset\\cache\"\n",
        "\n",
        "# 학습 설정\n",
        "epochs = 10\n",
        "batch_size = 128\n",
        "evaluation_percent = 0.2  # 20%를 평가용으로 사용\n",
        "# ================================\n",
        "\n",
        "print(f\"데이터셋 경로: {dataset_path}\")\n",
        "print(f\"캐시 폴더: {cache_folder}\")\n",
        "print(f\"학습 에포크: {epochs}\")\n",
        "print(f\"배치 크기: {batch_size}\")\n",
        "print(f\"평가 데이터 비율: {evaluation_percent*100}%\")\n"
      ]
    },
    {
      "cell_type": "raw",
      "metadata": {
        "vscode": {
          "languageId": "raw"
        }
      },
      "source": [
        "## 모델 구성 요소 정의\n",
        "\n",
        "다양한 인코딩, 트랜스포머, 분류 헤드 옵션을 정의합니다.\n"
      ]
    },
    {
      "cell_type": "code",
      "execution_count": null,
      "metadata": {},
      "outputs": [],
      "source": [
        "# 다양한 인코딩 옵션\n",
        "encodings = [\n",
        "    NoInputEncoder(),                                    # [0] 기본 인코더\n",
        "    RecordLevelEmbed(64),                               # [1] 레코드 레벨 임베딩\n",
        "    CategoricalFeatureEmbed(EmbedLayerType.Dense, 16),  # [2] Dense 임베딩\n",
        "    CategoricalFeatureEmbed(EmbedLayerType.Lookup, 16), # [3] Lookup 임베딩\n",
        "    CategoricalFeatureEmbed(EmbedLayerType.Projection, 16), # [4] Projection 임베딩\n",
        "    RecordLevelEmbed(64, project=True)                  # [5] 프로젝션 포함 레코드 임베딩\n",
        "]\n",
        "\n",
        "# 다양한 분류 헤드 옵션\n",
        "classification_heads = [\n",
        "    LastTokenClassificationHead(),           # [0] 마지막 토큰 기반\n",
        "    FlattenClassificationHead(),            # [1] 플래튼 기반\n",
        "    GlobalAveragePoolingClassificationHead(), # [2] 글로벌 평균 풀링\n",
        "    CLSTokenClassificationHead(),           # [3] CLS 토큰 기반\n",
        "    FeaturewiseEmbedding(project=False),    # [4] 피처별 임베딩\n",
        "    FeaturewiseEmbedding(project=True),     # [5] 프로젝션 포함 피처별 임베딩\n",
        "]\n",
        "\n",
        "# 다양한 트랜스포머 옵션\n",
        "transformers = [\n",
        "    BasicTransformer(2, 128, n_heads=2),                    # [0] 기본 인코더\n",
        "    BasicTransformer(2, 128, n_heads=2, is_decoder=True),   # [1] 기본 디코더\n",
        "    GPTSmallTransformer(),                                  # [2] GPT 스타일\n",
        "    BERTSmallTransformer()                                  # [3] BERT 스타일\n",
        "]\n",
        "\n",
        "print(f\"인코딩 옵션: {len(encodings)}개\")\n",
        "print(f\"분류 헤드 옵션: {len(classification_heads)}개\")\n",
        "print(f\"트랜스포머 옵션: {len(transformers)}개\")\n"
      ]
    },
    {
      "cell_type": "raw",
      "metadata": {
        "vscode": {
          "languageId": "raw"
        }
      },
      "source": [
        "## FlowTransformer 설정 및 초기화\n"
      ]
    },
    {
      "cell_type": "code",
      "execution_count": null,
      "metadata": {},
      "outputs": [],
      "source": [
        "# 전처리 설정\n",
        "pre_processing = StandardPreProcessing(n_categorical_levels=32)\n",
        "\n",
        "# FlowTransformer 정의\n",
        "# 기본 설정: NoInputEncoder + BasicTransformer + LastTokenClassificationHead\n",
        "ft = FlowTransformer(\n",
        "    pre_processing=pre_processing,\n",
        "    input_encoding=encodings[0],        # 다른 인코더를 사용하려면 인덱스 변경\n",
        "    sequential_model=transformers[0],   # 다른 트랜스포머를 사용하려면 인덱스 변경\n",
        "    classification_head=classification_heads[0],  # 다른 분류 헤드를 사용하려면 인덱스 변경\n",
        "    params=FlowTransformerParameters(\n",
        "        window_size=8,              # 시퀀스 윈도우 크기\n",
        "        mlp_layer_sizes=[128],      # MLP 레이어 크기\n",
        "        mlp_dropout=0.1             # 드롭아웃 비율\n",
        "    )\n",
        ")\n",
        "\n",
        "print(\"FlowTransformer 초기화 완료\")\n",
        "print(f\"사용 중인 인코더: {type(ft.input_encoding).__name__}\")\n",
        "print(f\"사용 중인 트랜스포머: {type(ft.sequential_model).__name__}\")\n",
        "print(f\"사용 중인 분류 헤드: {type(ft.classification_head).__name__}\")\n"
      ]
    },
    {
      "cell_type": "code",
      "execution_count": null,
      "metadata": {},
      "outputs": [],
      "source": [
        "## 샘플 데이터 생성 (실제 CSV 파일이 없는 경우)\n",
        "\n",
        "import numpy as np\n",
        "\n",
        "# 샘플 데이터 생성 함수\n",
        "def create_sample_cicflowmeter_data(file_path, num_samples=1000):\n",
        "    \"\"\"CICFlowMeter 형식의 샘플 데이터 생성\"\"\"\n",
        "    np.random.seed(42)  # 재현 가능한 결과를 위해\n",
        "    \n",
        "    # CICFlowMeter V3 스펙에 맞는 컬럼들\n",
        "    columns = [\n",
        "        'Flow Duration', 'Total Fwd Packets', 'Total Backward Packets',\n",
        "        'Total Length of Fwd Packets', 'Total Length of Bwd Packets',\n",
        "        'Fwd Packet Length Max', 'Fwd Packet Length Min', 'Fwd Packet Length Mean',\n",
        "        'Fwd Packet Length Std', 'Bwd Packet Length Max', 'Bwd Packet Length Min',\n",
        "        'Bwd Packet Length Mean', 'Bwd Packet Length Std', 'Flow Bytes/s',\n",
        "        'Flow Packets/s', 'Flow IAT Mean', 'Flow IAT Std', 'Flow IAT Max',\n",
        "        'Flow IAT Min', 'Fwd IAT Total', 'Fwd IAT Mean', 'Fwd IAT Std',\n",
        "        'Fwd IAT Max', 'Fwd IAT Min', 'Bwd IAT Total', 'Bwd IAT Mean',\n",
        "        'Bwd IAT Std', 'Bwd IAT Max', 'Bwd IAT Min', 'Fwd PSH Flags',\n",
        "        'Bwd PSH Flags', 'Fwd URG Flags', 'Bwd URG Flags', 'Fwd Header Length',\n",
        "        'Bwd Header Length', 'Fwd Packets/s', 'Bwd Packets/s',\n",
        "        'Min Packet Length', 'Max Packet Length', 'Packet Length Mean',\n",
        "        'Packet Length Std', 'Packet Length Variance', 'FIN Flag Count',\n",
        "        'SYN Flag Count', 'RST Flag Count', 'PSH Flag Count', 'ACK Flag Count',\n",
        "        'URG Flag Count', 'CWE Flag Count', 'ECE Flag Count', 'Down/Up Ratio',\n",
        "        'Average Packet Size', 'Avg Fwd Segment Size', 'Avg Bwd Segment Size',\n",
        "        'Fwd Header Length.1', 'Fwd Avg Bytes/Bulk', 'Fwd Avg Packets/Bulk',\n",
        "        'Fwd Avg Bulk Rate', 'Bwd Avg Bytes/Bulk', 'Bwd Avg Packets/Bulk',\n",
        "        'Bwd Avg Bulk Rate', 'Subflow Fwd Packets', 'Subflow Fwd Bytes',\n",
        "        'Subflow Bwd Packets', 'Subflow Bwd Bytes', 'Init_Win_bytes_forward',\n",
        "        'Init_Win_bytes_backward', 'act_data_pkt_fwd', 'min_seg_size_forward',\n",
        "        'Active Mean', 'Active Std', 'Active Max', 'Active Min',\n",
        "        'Idle Mean', 'Idle Std', 'Idle Max', 'Idle Min', 'Label'\n",
        "    ]\n",
        "    \n",
        "    # 샘플 데이터 생성\n",
        "    data = {}\n",
        "    for col in columns[:-1]:  # Label 제외\n",
        "        if 'Flag' in col:\n",
        "            # 플래그 컬럼은 0-10 범위의 정수\n",
        "            data[col] = np.random.randint(0, 11, num_samples)\n",
        "        elif 'Packet' in col and 'Length' in col:\n",
        "            # 패킷 길이 관련은 양수 값\n",
        "            data[col] = np.random.exponential(500, num_samples)\n",
        "        elif 'Duration' in col or 'IAT' in col:\n",
        "            # 시간 관련은 마이크로초 단위\n",
        "            data[col] = np.random.exponential(1000000, num_samples)\n",
        "        elif 'Bytes' in col:\n",
        "            # 바이트 관련은 양수 값\n",
        "            data[col] = np.random.exponential(1000, num_samples)\n",
        "        else:\n",
        "            # 기타 피처들\n",
        "            data[col] = np.random.normal(100, 50, num_samples)\n",
        "    \n",
        "    # Label 컬럼 (이진 분류)\n",
        "    data['Label'] = np.random.choice(['BENIGN', 'ATTACK'], num_samples, p=[0.8, 0.2])\n",
        "    \n",
        "    # DataFrame 생성 및 저장\n",
        "    df = pd.DataFrame(data)\n",
        "    \n",
        "    # 디렉토리가 없으면 생성\n",
        "    os.makedirs(os.path.dirname(file_path), exist_ok=True)\n",
        "    \n",
        "    df.to_csv(file_path, index=False)\n",
        "    print(f\"샘플 데이터 생성 완료: {file_path}\")\n",
        "    print(f\"행 수: {len(df)}, 열 수: {len(df.columns)}\")\n",
        "    print(f\"레이블 분포: {df['Label'].value_counts().to_dict()}\")\n",
        "    \n",
        "    return file_path\n",
        "\n",
        "# 실제 파일이 없으면 샘플 데이터 생성\n",
        "if not os.path.exists(dataset_path):\n",
        "    print(f\"실제 데이터셋 파일이 없으므로 샘플 데이터를 생성합니다...\")\n",
        "    dataset_path = create_sample_cicflowmeter_data(dataset_path, num_samples=5000)\n",
        "else:\n",
        "    print(f\"기존 데이터셋 파일 사용: {dataset_path}\")\n"
      ]
    },
    {
      "cell_type": "raw",
      "metadata": {
        "vscode": {
          "languageId": "raw"
        }
      },
      "source": [
        "## 데이터셋 로드\n",
        "\n",
        "CICFlowMeter 데이터셋 스펙을 사용하여 데이터를 로드합니다.\n"
      ]
    },
    {
      "cell_type": "code",
      "execution_count": null,
      "metadata": {},
      "outputs": [],
      "source": [
        "# 파일 존재 확인\n",
        "if not os.path.exists(dataset_path):\n",
        "    print(f\"오류: 데이터셋 파일을 찾을 수 없습니다: {dataset_path}\")\n",
        "    print(\"위의 셀에서 dataset_path를 올바른 경로로 설정해주세요.\")\n",
        "else:\n",
        "    print(f\"데이터셋 파일 확인됨: {dataset_path}\")\n",
        "    \n",
        "    # 데이터셋 로드 설정\n",
        "    dataset_name = \"cic2017_Dos_dataset\"\n",
        "    \n",
        "    dataset_specification = NamedDatasetSpecifications.cic_2017_dataset\n",
        "    eval_method = EvaluationDatasetSampling.RandomRows\n",
        "    \n",
        "    print(\"\\n데이터셋 로딩 시작...\")\n",
        "    print(f\"데이터셋 스펙: {dataset_specification.class_column} 컬럼을 클래스로 사용\")\n",
        "    print(f\"포함된 피처 수: {len(dataset_specification.include_fields)}개\")\n",
        "    print(f\"범주형 피처 수: {len(dataset_specification.categorical_fields)}개\")\n",
        "    \n",
        "    # 캐시 폴더 사용 여부에 따라 다르게 로드\n",
        "    if cache_folder and os.path.exists(os.path.dirname(cache_folder)):\n",
        "        ft.load_dataset(\n",
        "            dataset_name, \n",
        "            dataset_path, \n",
        "            dataset_specification, \n",
        "            cache_folder,\n",
        "            evaluation_dataset_sampling=eval_method, \n",
        "            evaluation_percent=evaluation_percent\n",
        "        )\n",
        "        print(f\"캐시 폴더 사용: {cache_folder}\")\n",
        "    else:\n",
        "        ft.load_dataset(\n",
        "            dataset_name, \n",
        "            dataset_path, \n",
        "            dataset_specification, \n",
        "            evaluation_dataset_sampling=eval_method, \n",
        "            evaluation_percent=evaluation_percent\n",
        "        )\n",
        "        print(\"캐시 없이 로드\")\n",
        "    \n",
        "    print(\"데이터셋 로딩 완료!\")\n"
      ]
    },
    {
      "cell_type": "code",
      "execution_count": null,
      "metadata": {},
      "outputs": [],
      "source": [
        "print(\"모델 빌드 중...\")\n",
        "model = ft.build_model()\n",
        "\n",
        "print(\"\\n=== 모델 구조 ===\")\n",
        "model.summary()\n",
        "\n",
        "print(\"\\n모델 컴파일 중...\")\n",
        "model.compile(\n",
        "    optimizer=\"adam\", \n",
        "    loss='binary_crossentropy', \n",
        "    metrics=['binary_accuracy'], \n",
        "    jit_compile=True\n",
        ")\n",
        "\n",
        "print(\"모델 준비 완료!\")\n"
      ]
    },
    {
      "cell_type": "code",
      "execution_count": null,
      "metadata": {},
      "outputs": [],
      "source": [
        "print(\"모델 빌드 중...\")\n",
        "model = ft.build_model()\n",
        "\n",
        "print(\"\\n=== 모델 구조 ===\")\n",
        "model.summary()\n",
        "\n",
        "print(\"\\n모델 컴파일 중...\")\n",
        "model.compile(\n",
        "    optimizer=\"adam\", \n",
        "    loss='binary_crossentropy', \n",
        "    metrics=['binary_accuracy'], \n",
        "    jit_compile=True\n",
        ")\n",
        "\n",
        "print(\"모델 준비 완료!\")\n"
      ]
    },
    {
      "cell_type": "raw",
      "metadata": {
        "vscode": {
          "languageId": "raw"
        }
      },
      "source": [
        "## 모델 빌드 및 컴파일\n"
      ]
    },
    {
      "cell_type": "code",
      "execution_count": null,
      "metadata": {},
      "outputs": [],
      "source": [
        "print(\"모델 빌드 중...\")\n",
        "model = ft.build_model()\n",
        "\n",
        "print(\"\\n=== 모델 구조 ===\")\n",
        "model.summary()\n",
        "\n",
        "print(\"\\n모델 컴파일 중...\")\n",
        "model.compile(\n",
        "    optimizer=\"adam\", \n",
        "    loss='binary_crossentropy', \n",
        "    metrics=['binary_accuracy'], \n",
        "    jit_compile=True\n",
        ")\n",
        "\n",
        "print(\"모델 준비 완료!\")\n"
      ]
    },
    {
      "cell_type": "code",
      "execution_count": null,
      "metadata": {},
      "outputs": [],
      "source": [
        "print(\"모델 빌드 중...\")\n",
        "model = ft.build_model()\n",
        "\n",
        "print(\"\\n=== 모델 구조 ===\")\n",
        "model.summary()\n",
        "\n",
        "print(\"\\n모델 컴파일 중...\")\n",
        "model.compile(\n",
        "    optimizer=\"adam\", \n",
        "    loss='binary_crossentropy', \n",
        "    metrics=['binary_accuracy'], \n",
        "    jit_compile=True\n",
        ")\n",
        "\n",
        "print(\"모델 준비 완료!\")\n"
      ]
    },
    {
      "cell_type": "code",
      "execution_count": null,
      "metadata": {},
      "outputs": [],
      "source": [
        "print(\"모델 빌드 중...\")\n",
        "model = ft.build_model()\n",
        "\n",
        "print(\"\\n=== 모델 구조 ===\")\n",
        "model.summary()\n",
        "\n",
        "print(\"\\n모델 컴파일 중...\")\n",
        "model.compile(\n",
        "    optimizer=\"adam\", \n",
        "    loss='binary_crossentropy', \n",
        "    metrics=['binary_accuracy'], \n",
        "    jit_compile=True\n",
        ")\n",
        "\n",
        "print(\"모델 준비 완료!\")\n"
      ]
    },
    {
      "cell_type": "code",
      "execution_count": null,
      "metadata": {},
      "outputs": [],
      "source": [
        "print(\"모델 빌드 중...\")\n",
        "model = ft.build_model()\n",
        "\n",
        "print(\"\\n=== 모델 구조 ===\")\n",
        "model.summary()\n",
        "\n",
        "print(\"\\n모델 컴파일 중...\")\n",
        "model.compile(\n",
        "    optimizer=\"adam\", \n",
        "    loss='binary_crossentropy', \n",
        "    metrics=['binary_accuracy'], \n",
        "    jit_compile=True\n",
        ")\n",
        "\n",
        "print(\"모델 준비 완료!\")\n"
      ]
    },
    {
      "cell_type": "code",
      "execution_count": null,
      "metadata": {},
      "outputs": [],
      "source": [
        "print(\"모델 빌드 중...\")\n",
        "model = ft.build_model()\n",
        "\n",
        "print(\"\\n=== 모델 구조 ===\")\n",
        "model.summary()\n",
        "\n",
        "print(\"\\n모델 컴파일 중...\")\n",
        "model.compile(\n",
        "    optimizer=\"adam\", \n",
        "    loss='binary_crossentropy', \n",
        "    metrics=['binary_accuracy'], \n",
        "    jit_compile=True\n",
        ")\n",
        "\n",
        "print(\"모델 준비 완료!\")\n"
      ]
    },
    {
      "cell_type": "code",
      "execution_count": null,
      "metadata": {},
      "outputs": [],
      "source": [
        "print(\"모델 빌드 중...\")\n",
        "model = ft.build_model()\n",
        "\n",
        "print(\"\\n=== 모델 구조 ===\")\n",
        "model.summary()\n",
        "\n",
        "print(\"\\n모델 컴파일 중...\")\n",
        "model.compile(\n",
        "    optimizer=\"adam\", \n",
        "    loss='binary_crossentropy', \n",
        "    metrics=['binary_accuracy'], \n",
        "    jit_compile=True\n",
        ")\n",
        "\n",
        "print(\"모델 준비 완료!\")\n"
      ]
    },
    {
      "cell_type": "code",
      "execution_count": null,
      "metadata": {},
      "outputs": [],
      "source": [
        "print(\"모델 빌드 중...\")\n",
        "model = ft.build_model()\n",
        "\n",
        "print(\"\\n=== 모델 구조 ===\")\n",
        "model.summary()\n",
        "\n",
        "print(\"\\n모델 컴파일 중...\")\n",
        "model.compile(\n",
        "    optimizer=\"adam\", \n",
        "    loss='binary_crossentropy', \n",
        "    metrics=['binary_accuracy'], \n",
        "    jit_compile=True\n",
        ")\n",
        "\n",
        "print(\"모델 준비 완료!\")\n"
      ]
    },
    {
      "cell_type": "code",
      "execution_count": null,
      "metadata": {},
      "outputs": [],
      "source": [
        "print(\"모델 빌드 중...\")\n",
        "model = ft.build_model()\n",
        "\n",
        "print(\"\\n=== 모델 구조 ===\")\n",
        "model.summary()\n",
        "\n",
        "print(\"\\n모델 컴파일 중...\")\n",
        "model.compile(\n",
        "    optimizer=\"adam\", \n",
        "    loss='binary_crossentropy', \n",
        "    metrics=['binary_accuracy'], \n",
        "    jit_compile=True\n",
        ")\n",
        "\n",
        "print(\"모델 준비 완료!\")\n"
      ]
    },
    {
      "cell_type": "code",
      "execution_count": null,
      "metadata": {},
      "outputs": [],
      "source": [
        "print(\"모델 빌드 중...\")\n",
        "model = ft.build_model()\n",
        "\n",
        "print(\"\\n=== 모델 구조 ===\")\n",
        "model.summary()\n",
        "\n",
        "print(\"\\n모델 컴파일 중...\")\n",
        "model.compile(\n",
        "    optimizer=\"adam\", \n",
        "    loss='binary_crossentropy', \n",
        "    metrics=['binary_accuracy'], \n",
        "    jit_compile=True\n",
        ")\n",
        "\n",
        "print(\"모델 준비 완료!\")\n"
      ]
    },
    {
      "cell_type": "code",
      "execution_count": null,
      "metadata": {},
      "outputs": [],
      "source": [
        "print(\"모델 빌드 중...\")\n",
        "model = ft.build_model()\n",
        "\n",
        "print(\"\\n=== 모델 구조 ===\")\n",
        "model.summary()\n",
        "\n",
        "print(\"\\n모델 컴파일 중...\")\n",
        "model.compile(\n",
        "    optimizer=\"adam\", \n",
        "    loss='binary_crossentropy', \n",
        "    metrics=['binary_accuracy'], \n",
        "    jit_compile=True\n",
        ")\n",
        "\n",
        "print(\"모델 준비 완료!\")\n"
      ]
    },
    {
      "cell_type": "code",
      "execution_count": null,
      "metadata": {},
      "outputs": [],
      "source": [
        "print(\"모델 빌드 중...\")\n",
        "model = ft.build_model()\n",
        "\n",
        "print(\"\\n=== 모델 구조 ===\")\n",
        "model.summary()\n",
        "\n",
        "print(\"\\n모델 컴파일 중...\")\n",
        "model.compile(\n",
        "    optimizer=\"adam\", \n",
        "    loss='binary_crossentropy', \n",
        "    metrics=['binary_accuracy'], \n",
        "    jit_compile=True\n",
        ")\n",
        "\n",
        "print(\"모델 준비 완료!\")\n"
      ]
    },
    {
      "cell_type": "code",
      "execution_count": null,
      "metadata": {},
      "outputs": [],
      "source": [
        "print(\"모델 빌드 중...\")\n",
        "model = ft.build_model()\n",
        "\n",
        "print(\"\\n=== 모델 구조 ===\")\n",
        "model.summary()\n",
        "\n",
        "print(\"\\n모델 컴파일 중...\")\n",
        "model.compile(\n",
        "    optimizer=\"adam\", \n",
        "    loss='binary_crossentropy', \n",
        "    metrics=['binary_accuracy'], \n",
        "    jit_compile=True\n",
        ")\n",
        "\n",
        "print(\"모델 준비 완료!\")\n"
      ]
    },
    {
      "cell_type": "code",
      "execution_count": null,
      "metadata": {},
      "outputs": [],
      "source": [
        "print(\"모델 빌드 중...\")\n",
        "model = ft.build_model()\n",
        "\n",
        "print(\"\\n=== 모델 구조 ===\")\n",
        "model.summary()\n",
        "\n",
        "print(\"\\n모델 컴파일 중...\")\n",
        "model.compile(\n",
        "    optimizer=\"adam\", \n",
        "    loss='binary_crossentropy', \n",
        "    metrics=['binary_accuracy'], \n",
        "    jit_compile=True\n",
        ")\n",
        "\n",
        "print(\"모델 준비 완료!\")\n"
      ]
    },
    {
      "cell_type": "code",
      "execution_count": null,
      "metadata": {},
      "outputs": [],
      "source": [
        "print(\"모델 빌드 중...\")\n",
        "model = ft.build_model()\n",
        "\n",
        "print(\"\\n=== 모델 구조 ===\")\n",
        "model.summary()\n",
        "\n",
        "print(\"\\n모델 컴파일 중...\")\n",
        "model.compile(\n",
        "    optimizer=\"adam\", \n",
        "    loss='binary_crossentropy', \n",
        "    metrics=['binary_accuracy'], \n",
        "    jit_compile=True\n",
        ")\n",
        "\n",
        "print(\"모델 준비 완료!\")\n"
      ]
    },
    {
      "cell_type": "code",
      "execution_count": null,
      "metadata": {},
      "outputs": [],
      "source": [
        "print(\"모델 빌드 중...\")\n",
        "model = ft.build_model()\n",
        "\n",
        "print(\"\\n=== 모델 구조 ===\")\n",
        "model.summary()\n",
        "\n",
        "print(\"\\n모델 컴파일 중...\")\n",
        "model.compile(\n",
        "    optimizer=\"adam\", \n",
        "    loss='binary_crossentropy', \n",
        "    metrics=['binary_accuracy'], \n",
        "    jit_compile=True\n",
        ")\n",
        "\n",
        "print(\"모델 준비 완료!\")\n"
      ]
    },
    {
      "cell_type": "code",
      "execution_count": null,
      "metadata": {},
      "outputs": [],
      "source": [
        "print(\"모델 빌드 중...\")\n",
        "model = ft.build_model()\n",
        "\n",
        "print(\"\\n=== 모델 구조 ===\")\n",
        "model.summary()\n",
        "\n",
        "print(\"\\n모델 컴파일 중...\")\n",
        "model.compile(\n",
        "    optimizer=\"adam\", \n",
        "    loss='binary_crossentropy', \n",
        "    metrics=['binary_accuracy'], \n",
        "    jit_compile=True\n",
        ")\n",
        "\n",
        "print(\"모델 준비 완료!\")\n"
      ]
    },
    {
      "cell_type": "code",
      "execution_count": null,
      "metadata": {},
      "outputs": [],
      "source": [
        "print(\"모델 빌드 중...\")\n",
        "model = ft.build_model()\n",
        "\n",
        "print(\"\\n=== 모델 구조 ===\")\n",
        "model.summary()\n",
        "\n",
        "print(\"\\n모델 컴파일 중...\")\n",
        "model.compile(\n",
        "    optimizer=\"adam\", \n",
        "    loss='binary_crossentropy', \n",
        "    metrics=['binary_accuracy'], \n",
        "    jit_compile=True\n",
        ")\n",
        "\n",
        "print(\"모델 준비 완료!\")\n"
      ]
    },
    {
      "cell_type": "code",
      "execution_count": null,
      "metadata": {},
      "outputs": [],
      "source": [
        "print(\"모델 빌드 중...\")\n",
        "model = ft.build_model()\n",
        "\n",
        "print(\"\\n=== 모델 구조 ===\")\n",
        "model.summary()\n",
        "\n",
        "print(\"\\n모델 컴파일 중...\")\n",
        "model.compile(\n",
        "    optimizer=\"adam\", \n",
        "    loss='binary_crossentropy', \n",
        "    metrics=['binary_accuracy'], \n",
        "    jit_compile=True\n",
        ")\n",
        "\n",
        "print(\"모델 준비 완료!\")\n"
      ]
    },
    {
      "cell_type": "raw",
      "metadata": {
        "vscode": {
          "languageId": "raw"
        }
      },
      "source": [
        "## 모델 학습 및 평가\n"
      ]
    },
    {
      "cell_type": "code",
      "execution_count": null,
      "metadata": {},
      "outputs": [],
      "source": [
        "print(f\"모델 학습 시작 (에포크: {epochs}, 배치 크기: {batch_size})...\")\n",
        "print(\"학습 중에는 진행 상황이 표시됩니다.\\n\")\n",
        "\n",
        "# 학습 및 평가 실행\n",
        "train_results, eval_results, final_epoch = ft.evaluate(\n",
        "    model, \n",
        "    batch_size=batch_size, \n",
        "    epochs=epochs,\n",
        "    steps_per_epoch=64, \n",
        "    early_stopping_patience=5\n",
        ")\n",
        "\n",
        "print(\"\\n\" + \"=\"*50)\n",
        "print(\"학습 완료!\")\n",
        "print(f\"최종 에포크: {final_epoch}\")\n",
        "print(\"=\"*50)\n"
      ]
    },
    {
      "cell_type": "code",
      "execution_count": null,
      "metadata": {},
      "outputs": [],
      "source": [
        "print(\"모델 빌드 중...\")\n",
        "model = ft.build_model()\n",
        "\n",
        "print(\"\\n=== 모델 구조 ===\")\n",
        "model.summary()\n",
        "\n",
        "print(\"\\n모델 컴파일 중...\")\n",
        "model.compile(\n",
        "    optimizer=\"adam\", \n",
        "    loss='binary_crossentropy', \n",
        "    metrics=['binary_accuracy'], \n",
        "    jit_compile=True\n",
        ")\n",
        "\n",
        "print(\"모델 준비 완료!\")\n"
      ]
    },
    {
      "cell_type": "code",
      "execution_count": null,
      "metadata": {},
      "outputs": [],
      "source": [
        "print(\"모델 빌드 중...\")\n",
        "model = ft.build_model()\n",
        "\n",
        "print(\"\\n=== 모델 구조 ===\")\n",
        "model.summary()\n",
        "\n",
        "print(\"\\n모델 컴파일 중...\")\n",
        "model.compile(\n",
        "    optimizer=\"adam\", \n",
        "    loss='binary_crossentropy', \n",
        "    metrics=['binary_accuracy'], \n",
        "    jit_compile=True\n",
        ")\n",
        "\n",
        "print(\"모델 준비 완료!\")\n"
      ]
    },
    {
      "cell_type": "code",
      "execution_count": null,
      "metadata": {},
      "outputs": [],
      "source": [
        "print(\"모델 빌드 중...\")\n",
        "model = ft.build_model()\n",
        "\n",
        "print(\"\\n=== 모델 구조 ===\")\n",
        "model.summary()\n",
        "\n",
        "print(\"\\n모델 컴파일 중...\")\n",
        "model.compile(\n",
        "    optimizer=\"adam\", \n",
        "    loss='binary_crossentropy', \n",
        "    metrics=['binary_accuracy'], \n",
        "    jit_compile=True\n",
        ")\n",
        "\n",
        "print(\"모델 준비 완료!\")\n"
      ]
    },
    {
      "cell_type": "code",
      "execution_count": null,
      "metadata": {},
      "outputs": [],
      "source": [
        "print(\"모델 빌드 중...\")\n",
        "model = ft.build_model()\n",
        "\n",
        "print(\"\\n=== 모델 구조 ===\")\n",
        "model.summary()\n",
        "\n",
        "print(\"\\n모델 컴파일 중...\")\n",
        "model.compile(\n",
        "    optimizer=\"adam\", \n",
        "    loss='binary_crossentropy', \n",
        "    metrics=['binary_accuracy'], \n",
        "    jit_compile=True\n",
        ")\n",
        "\n",
        "print(\"모델 준비 완료!\")\n"
      ]
    },
    {
      "cell_type": "code",
      "execution_count": null,
      "metadata": {},
      "outputs": [],
      "source": [
        "print(\"모델 빌드 중...\")\n",
        "model = ft.build_model()\n",
        "\n",
        "print(\"\\n=== 모델 구조 ===\")\n",
        "model.summary()\n",
        "\n",
        "print(\"\\n모델 컴파일 중...\")\n",
        "model.compile(\n",
        "    optimizer=\"adam\", \n",
        "    loss='binary_crossentropy', \n",
        "    metrics=['binary_accuracy'], \n",
        "    jit_compile=True\n",
        ")\n",
        "\n",
        "print(\"모델 준비 완료!\")\n"
      ]
    },
    {
      "cell_type": "raw",
      "metadata": {
        "vscode": {
          "languageId": "raw"
        }
      },
      "source": [
        "## 결과 분석\n"
      ]
    },
    {
      "cell_type": "code",
      "execution_count": null,
      "metadata": {},
      "outputs": [],
      "source": [
        "print(\"=== 최종 평가 결과 ===\")\n",
        "print(eval_results)\n",
        "print(\"\\n=== 학습 히스토리 ===\")\n",
        "print(train_results)\n",
        "\n",
        "# 결과를 DataFrame으로 저장\n",
        "if isinstance(eval_results, pd.DataFrame) and not eval_results.empty:\n",
        "    print(\"\\n=== 성능 요약 ===\")\n",
        "    if 'binary_accuracy' in eval_results.columns:\n",
        "        accuracy = eval_results['binary_accuracy'].iloc[-1]\n",
        "        print(f\"최종 정확도: {accuracy:.4f} ({accuracy*100:.2f}%)\")\n",
        "    \n",
        "    if 'loss' in eval_results.columns:\n",
        "        loss = eval_results['loss'].iloc[-1]\n",
        "        print(f\"최종 손실: {loss:.4f}\")\n",
        "else:\n",
        "    print(\"평가 결과를 분석할 수 없습니다.\")\n"
      ]
    },
    {
      "cell_type": "code",
      "execution_count": null,
      "metadata": {},
      "outputs": [],
      "source": [
        "print(\"모델 빌드 중...\")\n",
        "model = ft.build_model()\n",
        "\n",
        "print(\"\\n=== 모델 구조 ===\")\n",
        "model.summary()\n",
        "\n",
        "print(\"\\n모델 컴파일 중...\")\n",
        "model.compile(\n",
        "    optimizer=\"adam\", \n",
        "    loss='binary_crossentropy', \n",
        "    metrics=['binary_accuracy'], \n",
        "    jit_compile=True\n",
        ")\n",
        "\n",
        "print(\"모델 준비 완료!\")\n"
      ]
    },
    {
      "cell_type": "raw",
      "metadata": {
        "vscode": {
          "languageId": "raw"
        }
      },
      "source": [
        "## 모델 저장 (선택사항)\n"
      ]
    },
    {
      "cell_type": "code",
      "execution_count": null,
      "metadata": {},
      "outputs": [],
      "source": [
        "# 학습된 모델을 저장하려면 아래 주석을 해제하고 경로를 설정하세요\n",
        "\n",
        "model_save_path = \"cicflowmeter_flowtransformer_model.h5\"\n",
        "model.save(model_save_path)\n",
        "print(f\"모델이 저장되었습니다: {model_save_path}\")\n",
        "\n",
        "# 평가 결과도 저장\n",
        "eval_results.to_csv(\"evaluation_results.csv\", index=False)\n",
        "print(\"평가 결과가 저장되었습니다: evaluation_results.csv\")\n",
        "\n",
        "print(\"저장을 원하면 위의 주석을 해제하고 실행하세요.\")\n"
      ]
    },
    {
      "cell_type": "code",
      "execution_count": null,
      "metadata": {},
      "outputs": [],
      "source": [
        "print(\"모델 빌드 중...\")\n",
        "model = ft.build_model()\n",
        "\n",
        "print(\"\\n=== 모델 구조 ===\")\n",
        "model.summary()\n",
        "\n",
        "print(\"\\n모델 컴파일 중...\")\n",
        "model.compile(\n",
        "    optimizer=\"adam\", \n",
        "    loss='binary_crossentropy', \n",
        "    metrics=['binary_accuracy'], \n",
        "    jit_compile=True\n",
        ")\n",
        "\n",
        "print(\"모델 준비 완료!\")\n"
      ]
    },
    {
      "cell_type": "code",
      "execution_count": null,
      "metadata": {},
      "outputs": [],
      "source": [
        "print(\"모델 빌드 중...\")\n",
        "model = ft.build_model()\n",
        "\n",
        "print(\"\\n=== 모델 구조 ===\")\n",
        "model.summary()\n",
        "\n",
        "print(\"\\n모델 컴파일 중...\")\n",
        "model.compile(\n",
        "    optimizer=\"adam\", \n",
        "    loss='binary_crossentropy', \n",
        "    metrics=['binary_accuracy'], \n",
        "    jit_compile=True\n",
        ")\n",
        "\n",
        "print(\"모델 준비 완료!\")\n"
      ]
    }
  ],
  "metadata": {
    "kernelspec": {
      "display_name": "domainator",
      "language": "python",
      "name": "python3"
    },
    "language_info": {
      "codemirror_mode": {
        "name": "ipython",
        "version": 3
      },
      "file_extension": ".py",
      "mimetype": "text/x-python",
      "name": "python",
      "nbconvert_exporter": "python",
      "pygments_lexer": "ipython3",
      "version": "3.9.23"
    }
  },
  "nbformat": 4,
  "nbformat_minor": 2
}
